{
 "cells": [
  {
   "cell_type": "markdown",
   "metadata": {},
   "source": [
    "### Connect to workspace"
   ]
  },
  {
   "cell_type": "code",
   "execution_count": 1,
   "metadata": {},
   "outputs": [
    {
     "name": "stdout",
     "output_type": "stream",
     "text": [
      "Found the config file in: /home/demouser/repos/HighPerformanceTensorFlowOnAzure/aml_config/config.json\n",
      "jkaml\n",
      "jkaml\n",
      "eastus2\n",
      "952a710c-8d9c-40c1-9fec-f752138cc0b3\n"
     ]
    }
   ],
   "source": [
    "import azureml.core\n",
    "from azureml.core import Workspace\n",
    "\n",
    "ws = Workspace.from_config()\n",
    "print(ws.name, ws.resource_group, ws.location, ws.subscription_id, sep='\\n')"
   ]
  },
  {
   "cell_type": "markdown",
   "metadata": {},
   "source": [
    "### Retrieve the model"
   ]
  },
  {
   "cell_type": "code",
   "execution_count": 2,
   "metadata": {},
   "outputs": [],
   "source": [
    "from azureml.core import Experiment\n",
    "\n",
    "exp = Experiment(ws, name='aerial-classifier-train')\n",
    "tags = {\"FriendlyName\": \"FirstRun\"}\n",
    "runs = exp.get_runs(tags=tags)\n",
    "try:\n",
    "    run = next(runs)\n",
    "except:\n",
    "    print(\"Could not find the run with {}\".format(tags))\n",
    "    \n",
    "run.download_file('outputs/aerial_classifier.hd5', 'aerial_classifier.hd5')"
   ]
  },
  {
   "cell_type": "markdown",
   "metadata": {},
   "source": [
    "### Load the model"
   ]
  },
  {
   "cell_type": "code",
   "execution_count": 3,
   "metadata": {},
   "outputs": [
    {
     "name": "stdout",
     "output_type": "stream",
     "text": [
      "_________________________________________________________________\n",
      "Layer (type)                 Output Shape              Param #   \n",
      "=================================================================\n",
      "input_1 (InputLayer)         (None, 2048)              0         \n",
      "_________________________________________________________________\n",
      "dense (Dense)                (None, 512)               1049088   \n",
      "_________________________________________________________________\n",
      "dropout (Dropout)            (None, 512)               0         \n",
      "_________________________________________________________________\n",
      "dense_1 (Dense)              (None, 6)                 3078      \n",
      "=================================================================\n",
      "Total params: 1,052,166\n",
      "Trainable params: 1,052,166\n",
      "Non-trainable params: 0\n",
      "_________________________________________________________________\n"
     ]
    }
   ],
   "source": [
    "import tensorflow.keras as keras\n",
    "top_model = keras.models.load_model('aerial_classifier.hd5')\n",
    "top_model.summary()"
   ]
  },
  {
   "cell_type": "markdown",
   "metadata": {},
   "source": [
    "### Assemble the model\n",
    "Stack the *top_model* on top of **ResNet50** \"trunk\""
   ]
  },
  {
   "cell_type": "code",
   "execution_count": 7,
   "metadata": {},
   "outputs": [],
   "source": [
    "from tensorflow.keras.applications import resnet50\n",
    "from tensorflow.keras import Model\n",
    "\n",
    "# Create a featurizer\n",
    "trunk = resnet50.ResNet50(\n",
    "                weights = 'imagenet', \n",
    "                input_shape=(224,224,3), \n",
    "                include_top = False,\n",
    "                pooling = 'avg')\n",
    "\n",
    "full_model = Model(inputs=trunk.input, outputs=top_model(trunk.output))\n",
    "full_model.summary()"
   ]
  },
  {
   "cell_type": "markdown",
   "metadata": {},
   "source": [
    "### Create a dataset"
   ]
  },
  {
   "cell_type": "code",
   "execution_count": null,
   "metadata": {},
   "outputs": [],
   "source": [
    "# Returns a dataset based on a list of TFRecords files passsed as a parameters. \n",
    "def create_dataset(files, batch_size=32, prefetch_buffer_size=1, train=True, buffer_size=10000):\n",
    "    IMAGE_SHAPE = (224, 224, 3,)\n",
    "    NUM_CLASSES = 6\n",
    "          \n",
    "    # Extract image and label from proto Example\n",
    "    def _parse(example_proto):\n",
    "        features = {'label': tf.FixedLenFeature((), tf.int64, default_value=0),\n",
    "                    'image': tf.FixedLenFeature((), tf.string, default_value=\"\")}\n",
    "        parsed_features = tf.parse_single_example(example_proto, features)\n",
    "        label = parsed_features['label']\n",
    "        label = tf.one_hot(label, NUM_CLASSES)\n",
    "        image = image = tf.decode_raw(parsed_features['image'], tf.uint8)\n",
    "        image = tf.cast(image, tf.float32)\n",
    "        image = tf.reshape(image, IMAGE_SHAPE)\n",
    "                                                                  \n",
    "        # Pre-process image data for ResNet\n",
    "        #   RGB -> BGR\n",
    "        image = image[..., ::-1]\n",
    "        #   Substract the Imagenet mean for each channel\n",
    "        imagenet_mean=tf.constant(-np.array([103.939, 116.779, 123.68]), dtype=tf.float32)\n",
    "        image = tf.nn.bias_add(image, imagenet_mean)\n",
    "        #image = tf.subtract(image, imagenet_mean)\n",
    "        #image = resnet50.preprocess_input(image)\n",
    "        \n",
    "        return image, label\n",
    "\n",
    "    dataset = tf.data.TFRecordDataset(files)\n",
    "    dataset = dataset.map(_parse, num_parallel_calls=FLAGS.num_parallel_calls)\n",
    "    #dataset = dataset.map(_parse)\n",
    "    if train:\n",
    "        dataset = dataset.shuffle(buffer_size)\n",
    "    dataset = dataset.batch(batch_size=batch_size)\n",
    "    dataset = dataset.prefetch(buffer_size=prefetch_buffer_size)\n",
    "    dataset = dataset.repeat()\n",
    "\n",
    "    return dataset"
   ]
  }
 ],
 "metadata": {
  "kernelspec": {
   "display_name": "Python 3",
   "language": "python",
   "name": "python3"
  },
  "language_info": {
   "codemirror_mode": {
    "name": "ipython",
    "version": 3
   },
   "file_extension": ".py",
   "mimetype": "text/x-python",
   "name": "python",
   "nbconvert_exporter": "python",
   "pygments_lexer": "ipython3",
   "version": "3.6.6"
  }
 },
 "nbformat": 4,
 "nbformat_minor": 2
}
